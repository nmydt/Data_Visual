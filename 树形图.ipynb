{
 "cells": [
  {
   "cell_type": "code",
   "execution_count": 2,
   "metadata": {
    "ExecuteTime": {
     "end_time": "2022-05-26T12:25:40.008779Z",
     "start_time": "2022-05-26T12:25:39.628498Z"
    }
   },
   "outputs": [
    {
     "data": {
      "image/png": "[encoded data removed]",
      "text/plain": [
       "<Figure size 1080x576 with 1 Axes>"
      ]
     },
     "metadata": {
      "needs_background": "light"
     },
     "output_type": "display_data"
    }
   ],
   "source": [
    "# -*- coding: utf-8 -*-\n",
    "\n",
    "import matplotlib.pyplot as plt\n",
    "import squarify\n",
    "import pymysql\n",
    "plt.rcParams['font.sans-serif']=['SimHei']\n",
    "\n",
    "#连接Hadoop数据库\n",
    "v1 = []\n",
    "v2 = []\n",
    "conn = pymysql.connect(host='lylg102',port=3306,user='root',password='000000',db='test',charset='utf8')\n",
    "cursor = conn.cursor()\n",
    "\n",
    "#读取Hadoop订单表数据\n",
    "sql_num = \"SELECT region, ROUND(SUM(sales/10000),2) FROM orders WHERE dt=2019 GROUP BY region\"\n",
    "cursor.execute(sql_num)\n",
    "sh = cursor.fetchall()\n",
    "for s in sh:\n",
    "    v1.append(s[0])\n",
    "    v2.append(s[1])\n",
    "\n",
    "plt.figure(figsize=(15,8))\n",
    "colors = ['steelblue','red','indianred','green','yellow','orange']   #设置颜色数据\n",
    "plot=squarify.plot(\n",
    "    sizes=v2,            #指定绘图数据\n",
    "    label=v1,            #标签\n",
    "    color=colors,        #指定自定义颜色\n",
    "    alpha=0.6,           #指定透明度\n",
    "    value=v2,            #添加数值标签\n",
    "    edgecolor='white',   #设置边界框白色\n",
    "    linewidth=8          #设置边框宽度为3\n",
    ")\n",
    "\n",
    "plt.rc('font',size=15)      #设置标签大小\n",
    "plot.set_title('2019年企业销售额情况',fontdict={'fontsize':15})    #设置标题及大小\n",
    "plt.axis('off')    #去除坐标轴\n",
    "plt.tick_params(top='off',right='off')    #去除上边框和右边框刻度\n",
    "plt.show()"
   ]
  },
  {
   "cell_type": "code",
   "execution_count": null,
   "metadata": {},
   "outputs": [],
   "source": []
  },
  {
   "cell_type": "code",
   "execution_count": null,
   "metadata": {},
   "outputs": [],
   "source": []
  }
 ],
 "metadata": {
  "kernelspec": {
   "display_name": "Python 3",
   "language": "python",
   "name": "python3"
  },
  "language_info": {
   "codemirror_mode": {
    "name": "ipython",
    "version": 3
   },
   "file_extension": ".py",
   "mimetype": "text/x-python",
   "name": "python",
   "nbconvert_exporter": "python",
   "pygments_lexer": "ipython3",
   "version": "3.7.0"
  },
  "toc": {
   "base_numbering": 1,
   "nav_menu": {},
   "number_sections": true,
   "sideBar": true,
   "skip_h1_title": false,
   "title_cell": "Table of Contents",
   "title_sidebar": "Contents",
   "toc_cell": false,
   "toc_position": {},
   "toc_section_display": true,
   "toc_window_display": false
  },
  "varInspector": {
   "cols": {
    "lenName": 16,
    "lenType": 16,
    "lenVar": 40
   },
   "kernels_config": {
    "python": {
     "delete_cmd_postfix": "",
     "delete_cmd_prefix": "del ",
     "library": "var_list.py",
     "varRefreshCmd": "print(var_dic_list())"
    },
    "r": {
     "delete_cmd_postfix": ") ",
     "delete_cmd_prefix": "rm(",
     "library": "var_list.r",
     "varRefreshCmd": "cat(var_dic_list()) "
    }
   },
   "types_to_exclude": [
    "module",
    "function",
    "builtin_function_or_method",
    "instance",
    "_Feature"
   ],
   "window_display": false
  }
 },
 "nbformat": 4,
 "nbformat_minor": 4
}
