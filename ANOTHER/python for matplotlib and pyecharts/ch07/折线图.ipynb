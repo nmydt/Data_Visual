{
 "cells": [
  {
   "cell_type": "code",
   "execution_count": null,
   "metadata": {},
   "outputs": [],
   "source": [
    "# -*- coding: utf-8 -*-\n",
    "\n",
    "#声明Notebook类型，必须在引入pyecharts.charts等模块前声明\n",
    "from pyecharts.globals import CurrentConfig, NotebookType\n",
    "CurrentConfig.NOTEBOOK_TYPE = NotebookType.JUPYTER_LAB\n",
    "\n",
    "import matplotlib.pyplot as plt\n",
    "plt.rcParams['font.sans-serif'] = ['SimHei']   #显示中文\n",
    "plt.rcParams['axes.unicode_minus']=False       #正常显示负号\n",
    "from impala.dbapi import connect\n",
    "\n",
    "#连接Hadoop数据库\n",
    "v1 = []\n",
    "v2 = []\n",
    "v3 = []\n",
    "conn = connect(host='192.168.1.7', port=10000, database='sales',auth_mechanism='NOSASL',user='root')\n",
    "cursor = conn.cursor()\n",
    "\n",
    "#读取Hadoop订单表数据\n",
    "sql_num = \"SELECT weekofyear(order_date),ROUND(SUM(sales)/10000,2),ROUND(SUM(profit)/10000,2) FROM orders WHERE dt=2019 GROUP BY weekofyear(order_date)\"\n",
    "cursor.execute(sql_num)\n",
    "sh = cursor.fetchall()\n",
    "for s in sh:\n",
    "    v1.append(s[0])\n",
    "    v2.append(s[1])\n",
    "    v3.append(s[2]) \n",
    "\n",
    "#print(v1)\n",
    "#print(v2)\n",
    "#print(v3)\n",
    "    \n",
    "#画折线图\n",
    "plt.plot(v1, v2)\n",
    "plt.plot(v1, v3)\n",
    "#设置纵坐标范围\n",
    "plt.ylim((-1,21))\n",
    "#设置横坐标角度，这里设置为45度\n",
    "plt.xticks(rotation=45)\n",
    "#设置横纵坐标名称\n",
    "plt.xlabel(\"日期\")\n",
    "plt.ylabel(\"销售额与利润额\")\n",
    "#设置折线图名称\n",
    "plt.title(\"2019年企业销售额与利润额分析\")\n",
    "plt.show()"
   ]
  },
  {
   "cell_type": "code",
   "execution_count": null,
   "metadata": {},
   "outputs": [],
   "source": []
  }
 ],
 "metadata": {
  "kernelspec": {
   "display_name": "Python 3",
   "language": "python",
   "name": "python3"
  },
  "language_info": {
   "codemirror_mode": {
    "name": "ipython",
    "version": 3
   },
   "file_extension": ".py",
   "mimetype": "text/x-python",
   "name": "python",
   "nbconvert_exporter": "python",
   "pygments_lexer": "ipython3",
   "version": "3.7.4"
  }
 },
 "nbformat": 4,
 "nbformat_minor": 4
}
