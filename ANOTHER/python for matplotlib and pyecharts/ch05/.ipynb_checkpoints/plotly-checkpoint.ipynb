{
 "cells": [
  {
   "cell_type": "code",
   "execution_count": 20,
   "metadata": {},
   "outputs": [],
   "source": [
    "# -*- coding: utf-8 -*-\n",
    "\n",
    "import numpy as np\n",
    "import pandas as pd\n",
    "import matplotlib.pyplot as plt\n",
    "from pandas import Series,DataFrame\n",
    "#import chart_studio.plotly\n",
    "import plotly.graph_objs as pg\n",
    "import pymysql\n",
    "plt.rcParams['font.sans-serif'] = ['SimHei']   #中文字体设置\n",
    "\n",
    "#连接MySQL数据库\n",
    "v1 = []\n",
    "v2 = []\n",
    "v3 = []\n",
    "conn = pymysql.connect(host='127.0.0.1',port=3306,user='root',password='root',db='sales',charset='utf8')\n",
    "cursor = conn.cursor()\n",
    "\n",
    "#读取订单表数据\n",
    "sql_num = \"SELECT region,ROUND(SUM(sales)/10000,2),ROUND(SUM(profit)/10000,2) FROM orders where dt=2019 GROUP BY area\"\n",
    "cursor.execute(sql_num)\n",
    "sh = cursor.fetchall()\n",
    "for s in sh:\n",
    "    v1.append(s[0])\n",
    "    v2.append(s[1])\n",
    "    v3.append(s[2])\n",
    "\n",
    "#按区域绘制条形图\n",
    "date_sales = pg.Bar(x=v1, y=v2, name='销售额')\n",
    "date_profit = pg.Bar(x=v1, y=v3, name='利润额')\n",
    "data = [date_sales, date_profit]\n",
    "layout = pg.Layout(barmode='group', title=\"2019年区域业绩分析\")\n",
    "fig = pg.Figure(data=data, layout=layout)\n",
    "fig.write_html(\"2019年区域业绩分析.html\")"
   ]
  },
  {
   "cell_type": "code",
   "execution_count": null,
   "metadata": {},
   "outputs": [],
   "source": []
  }
 ],
 "metadata": {
  "kernelspec": {
   "display_name": "Python 3",
   "language": "python",
   "name": "python3"
  },
  "language_info": {
   "codemirror_mode": {
    "name": "ipython",
    "version": 3
   },
   "file_extension": ".py",
   "mimetype": "text/x-python",
   "name": "python",
   "nbconvert_exporter": "python",
   "pygments_lexer": "ipython3",
   "version": "3.7.3"
  }
 },
 "nbformat": 4,
 "nbformat_minor": 4
}
