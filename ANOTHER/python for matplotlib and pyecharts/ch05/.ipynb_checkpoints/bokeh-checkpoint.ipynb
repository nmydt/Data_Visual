{
 "cells": [
  {
   "cell_type": "code",
   "execution_count": 2,
   "metadata": {},
   "outputs": [],
   "source": [
    "# -*- coding: utf-8 -*-\n",
    "\n",
    "import numpy as np\n",
    "import pandas as pd\n",
    "import matplotlib.pyplot as plt\n",
    "from pandas import Series,DataFrame\n",
    "from bokeh.plotting import figure, show\n",
    "import pymysql\n",
    "plt.rcParams['font.sans-serif'] = ['SimHei']   #中文字体设置\n",
    "\n",
    "#连接MySQL数据库\n",
    "v1 = []\n",
    "v2 = []\n",
    "v3 = []\n",
    "conn = pymysql.connect(host='127.0.0.1',port=3306,user='root',password='root',db='sales',charset='utf8')\n",
    "cursor = conn.cursor()\n",
    "\n",
    "#读取订单表数据\n",
    "sql_num = \"SELECT MONTH(order_date),ROUND(SUM(sales)/10000,2),ROUND(SUM(profit)/10000,2) FROM orders where dt=2019 GROUP BY MONTH(order_date)\"\n",
    "cursor.execute(sql_num)\n",
    "sh = cursor.fetchall()\n",
    "for s in sh:\n",
    "    v1.append(s[0])\n",
    "    v2.append(s[1])\n",
    "    v3.append(s[2])\n",
    "    \n",
    "p = figure(width=800, height=400, title=\"2019年企业经营状况分析\")\n",
    "p.xaxis.axis_label = \"月份\"\n",
    "p.xaxis.axis_label_text_color = \"violet\"\n",
    "p.yaxis.axis_label = \"销售额与利润额\"\n",
    "p.yaxis.axis_label_text_color = \"violet\"\n",
    "dashs = [12, 4]\n",
    "listx1 = v1\n",
    "listy1 = v2\n",
    "p.line(listx1, listy1, line_width=4, line_color=\"red\", line_alpha=0.3, line_dash=dashs, legend=\"销售额\")\n",
    "listx2 = v1\n",
    "listy2 = v3\n",
    "p.line(listx2, listy2, line_width=4, legend=\"利润额\")\n",
    "show(p)"
   ]
  }
 ],
 "metadata": {
  "kernelspec": {
   "display_name": "Python 3",
   "language": "python",
   "name": "python3"
  },
  "language_info": {
   "codemirror_mode": {
    "name": "ipython",
    "version": 3
   },
   "file_extension": ".py",
   "mimetype": "text/x-python",
   "name": "python",
   "nbconvert_exporter": "python",
   "pygments_lexer": "ipython3",
   "version": "3.7.4"
  }
 },
 "nbformat": 4,
 "nbformat_minor": 4
}
