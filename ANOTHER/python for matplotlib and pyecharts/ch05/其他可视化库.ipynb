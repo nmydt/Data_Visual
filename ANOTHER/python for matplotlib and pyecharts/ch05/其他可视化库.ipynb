{
 "cells": [
  {
   "cell_type": "code",
   "execution_count": null,
   "metadata": {},
   "outputs": [
    {
     "name": "stdout",
     "output_type": "stream",
     "text": [
      "\n",
      "Note: if you're in the Jupyter notebook, Chart.serve() is not the best\n",
      "      way to view plots. Consider using Chart.display().\n",
      "You must interrupt the kernel to cancel this command.\n",
      "\n",
      "Serving to http://127.0.0.1:8889/    [Ctrl-C to exit]\n"
     ]
    },
    {
     "name": "stderr",
     "output_type": "stream",
     "text": [
      "127.0.0.1 - - [26/Mar/2020 05:29:06] \"GET / HTTP/1.1\" 200 -\n",
      "127.0.0.1 - - [26/Mar/2020 05:29:07] code 404, message Not Found\n",
      "127.0.0.1 - - [26/Mar/2020 05:29:07] \"GET /favicon.ico HTTP/1.1\" 404 -\n"
     ]
    }
   ],
   "source": [
    "#altair案例\n",
    "# -*- coding: utf-8 -*-#\n",
    "\n",
    "#农产品的产量与平均增长率的散点图\n",
    "import altair as alt\n",
    "import pandas as pd\n",
    "\n",
    "data = pd.DataFrame({'农产品名称': ['粮食', '棉花','油料','肉类','水产品'],\n",
    "                    '产量(万吨)': [66160.7, 565.3, 3475.2, 8654.4, 6445.3],\n",
    "                    '平均增长率': [2.1, 1.5, 1.0, 2.2, 3.3]})\n",
    "c = alt.Chart(data)\n",
    "c = c.mark_point(size=300)\n",
    "c = c.encode(x='产量(万吨):Q',y='平均增长率:Q',\n",
    "             color='农产品名称:N',\n",
    "             tooltip=['农产品名称', '产量(万吨)', '平均增长率'])\n",
    "c.serve()\n",
    "c.display()\n",
    "#c.savechart('plot.html')\n"
   ]
  },
  {
   "cell_type": "code",
   "execution_count": 1,
   "metadata": {},
   "outputs": [],
   "source": [
    "#pyqtgraph案例\n",
    "# -*- coding: utf-8 -*-#\n",
    "\n",
    "import numpy as np\n",
    "import pyqtgraph as pg\n",
    "\n",
    "#生成数据并绘图\n",
    "data = np.random.normal(size=100)\n",
    "pg.plot(data,title=\"绘制一个简单的可视化视图\")\n",
    " \n",
    "#启动qt事件循环\n",
    "if __name__ == '__main__':\n",
    "    import sys\n",
    "    if sys.flags.interactive != 1 or not hasattr(QtCore, 'PYQT_VERSION'):\n",
    "        pg.QtGui.QApplication.exec_()"
   ]
  },
  {
   "cell_type": "code",
   "execution_count": 5,
   "metadata": {},
   "outputs": [
    {
     "data": {
      "image/png": "[encoded data removed]",
      "text/plain": [
       "<Figure size 432x288 with 1 Axes>"
      ]
     },
     "metadata": {},
     "output_type": "display_data"
    }
   ],
   "source": [
    "#NetworkX案例\n",
    "# -*- coding: utf-8 -*-#\n",
    "\n",
    "#中文字体设置\n",
    "from matplotlib import pyplot as plt\n",
    "plt.rcParams['font.sans-serif'] = ['SimHei']\n",
    "\n",
    "import networkx as nx\n",
    "\n",
    "#定义graph\n",
    "nodes=['step A','step B','step C','step D','step E','step F']\n",
    "edges=[('step A','step C'),('step A','step B'),('step A','step E'),('step B','step E'),('step B','step F'),('step C','step F'),('step C','step E'),('step D','step F')]\n",
    "G=nx.Graph()\n",
    "G.add_nodes_from(nodes)\n",
    "G.add_edges_from(edges)\n",
    " \n",
    "#使用spring_layout布局\n",
    "pos=nx.spring_layout(G)\n",
    "\n",
    "#画网络关系图\n",
    "plt.title('某项目各步骤间的网络关系图')\n",
    "nx.draw_networkx(G)\n",
    "plt.show()"
   ]
  },
  {
   "cell_type": "code",
   "execution_count": null,
   "metadata": {},
   "outputs": [],
   "source": []
  },
  {
   "cell_type": "code",
   "execution_count": null,
   "metadata": {},
   "outputs": [],
   "source": []
  }
 ],
 "metadata": {
  "kernelspec": {
   "display_name": "Python 3",
   "language": "python",
   "name": "python3"
  },
  "language_info": {
   "codemirror_mode": {
    "name": "ipython",
    "version": 3
   },
   "file_extension": ".py",
   "mimetype": "text/x-python",
   "name": "python",
   "nbconvert_exporter": "python",
   "pygments_lexer": "ipython3",
   "version": "3.7.4"
  }
 },
 "nbformat": 4,
 "nbformat_minor": 4
}
