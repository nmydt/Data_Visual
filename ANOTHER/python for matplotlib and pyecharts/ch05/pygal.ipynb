{
 "cells": [
  {
   "cell_type": "code",
   "execution_count": 1,
   "metadata": {},
   "outputs": [],
   "source": [
    "# -*- coding: utf-8 -*-\n",
    "\n",
    "import numpy as np\n",
    "import pandas as pd\n",
    "import matplotlib.pyplot as plt\n",
    "from pandas import Series,DataFrame\n",
    "import pygal\n",
    "import pymysql\n",
    "plt.rcParams['font.sans-serif'] = ['SimHei']   #中文字体设置\n",
    "\n",
    "#连接MySQL数据库\n",
    "v1 = []\n",
    "v2 = []\n",
    "v3 = []\n",
    "conn = pymysql.connect(host='127.0.0.1',port=3306,user='root',password='root',db='sales',charset='utf8')\n",
    "cursor = conn.cursor()\n",
    "\n",
    "#读取订单表数据\n",
    "sql_num = \"SELECT store_name,ROUND(SUM(sales)/10000,2),ROUND(SUM(profit)/10000,2) FROM orders where dt=2019 GROUP BY store_name\"\n",
    "cursor.execute(sql_num)\n",
    "sh = cursor.fetchall()\n",
    "for s in sh:\n",
    "    v1.append(s[0])\n",
    "    v2.append(s[1])\n",
    "    v3.append(s[2])\n",
    "\n",
    "line_chart = pygal.HorizontalLine()  #创建一个水平线图的实例化对象\n",
    "line_chart.title = '2019年销售额与利润额'    #设置标题\n",
    "line_chart.x_labels = v1               #注意，这里的是水平线图，那么X轴就变为Y轴，Y轴变为X轴\n",
    "# 下面是添加两条线\n",
    "line_chart.add('销售额', v2)\n",
    "line_chart.add('利润额', v3)\n",
    "line_chart.range = [0, 80]           #设置X轴的范围\n",
    "line_chart.render_to_file('bar_chart.svg')        #将图像保存为SVG文件，可通过浏览器查看"
   ]
  },
  {
   "cell_type": "code",
   "execution_count": null,
   "metadata": {},
   "outputs": [],
   "source": []
  }
 ],
 "metadata": {
  "kernelspec": {
   "display_name": "Python 3",
   "language": "python",
   "name": "python3"
  },
  "language_info": {
   "codemirror_mode": {
    "name": "ipython",
    "version": 3
   },
   "file_extension": ".py",
   "mimetype": "text/x-python",
   "name": "python",
   "nbconvert_exporter": "python",
   "pygments_lexer": "ipython3",
   "version": "3.7.4"
  }
 },
 "nbformat": 4,
 "nbformat_minor": 4
}
